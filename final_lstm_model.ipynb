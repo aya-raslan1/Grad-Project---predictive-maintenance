{
 "cells": [
  {
   "cell_type": "code",
   "execution_count": 45,
   "metadata": {
    "id": "8z6-YdZKM2ao"
   },
   "outputs": [],
   "source": [
    "import numpy as np\n",
    "import pandas as pd\n",
    "import seaborn as sns\n",
    "import matplotlib.pyplot as plt\n",
    "from  sklearn.model_selection import train_test_split\n",
    "from  sklearn.metrics import classification_report, confusion_matrix\n",
    "from  sklearn.metrics import confusion_matrix, recall_score, accuracy_score, precision_score, ConfusionMatrixDisplay"
   ]
  },
  {
   "cell_type": "code",
   "execution_count": 46,
   "metadata": {},
   "outputs": [
    {
     "name": "stdout",
     "output_type": "stream",
     "text": [
      "Note: you may need to restart the kernel to use updated packages.pip 22.3.1 from C:\\anaconda\\lib\\site-packages\\pip (python 3.10)\n",
      "\n",
      "\n"
     ]
    }
   ],
   "source": [
    "pip --version"
   ]
  },
  {
   "cell_type": "code",
   "execution_count": 47,
   "metadata": {},
   "outputs": [
    {
     "name": "stdout",
     "output_type": "stream",
     "text": [
      "Requirement already satisfied: tensorflow in c:\\anaconda\\lib\\site-packages (2.16.1)\n",
      "Requirement already satisfied: tensorflow-intel==2.16.1 in c:\\anaconda\\lib\\site-packages (from tensorflow) (2.16.1)\n",
      "Requirement already satisfied: absl-py>=1.0.0 in c:\\anaconda\\lib\\site-packages (from tensorflow-intel==2.16.1->tensorflow) (2.1.0)\n",
      "Requirement already satisfied: grpcio<2.0,>=1.24.3 in c:\\anaconda\\lib\\site-packages (from tensorflow-intel==2.16.1->tensorflow) (1.64.1)\n",
      "Requirement already satisfied: numpy<2.0.0,>=1.23.5 in c:\\anaconda\\lib\\site-packages (from tensorflow-intel==2.16.1->tensorflow) (1.23.5)\n",
      "Requirement already satisfied: google-pasta>=0.1.1 in c:\\anaconda\\lib\\site-packages (from tensorflow-intel==2.16.1->tensorflow) (0.2.0)\n",
      "Requirement already satisfied: termcolor>=1.1.0 in c:\\anaconda\\lib\\site-packages (from tensorflow-intel==2.16.1->tensorflow) (2.4.0)\n",
      "Requirement already satisfied: requests<3,>=2.21.0 in c:\\anaconda\\lib\\site-packages (from tensorflow-intel==2.16.1->tensorflow) (2.28.1)\n",
      "Requirement already satisfied: wrapt>=1.11.0 in c:\\anaconda\\lib\\site-packages (from tensorflow-intel==2.16.1->tensorflow) (1.14.1)\n",
      "Requirement already satisfied: flatbuffers>=23.5.26 in c:\\anaconda\\lib\\site-packages (from tensorflow-intel==2.16.1->tensorflow) (24.3.25)\n",
      "Requirement already satisfied: setuptools in c:\\anaconda\\lib\\site-packages (from tensorflow-intel==2.16.1->tensorflow) (65.6.3)\n",
      "Requirement already satisfied: tensorboard<2.17,>=2.16 in c:\\anaconda\\lib\\site-packages (from tensorflow-intel==2.16.1->tensorflow) (2.16.2)\n",
      "Requirement already satisfied: keras>=3.0.0 in c:\\anaconda\\lib\\site-packages (from tensorflow-intel==2.16.1->tensorflow) (3.3.3)\n",
      "Requirement already satisfied: protobuf!=4.21.0,!=4.21.1,!=4.21.2,!=4.21.3,!=4.21.4,!=4.21.5,<5.0.0dev,>=3.20.3 in c:\\anaconda\\lib\\site-packages (from tensorflow-intel==2.16.1->tensorflow) (4.25.3)\n",
      "Requirement already satisfied: opt-einsum>=2.3.2 in c:\\anaconda\\lib\\site-packages (from tensorflow-intel==2.16.1->tensorflow) (3.3.0)\n",
      "Requirement already satisfied: packaging in c:\\anaconda\\lib\\site-packages (from tensorflow-intel==2.16.1->tensorflow) (22.0)\n",
      "Requirement already satisfied: tensorflow-io-gcs-filesystem>=0.23.1 in c:\\anaconda\\lib\\site-packages (from tensorflow-intel==2.16.1->tensorflow) (0.31.0)\n",
      "Requirement already satisfied: typing-extensions>=3.6.6 in c:\\anaconda\\lib\\site-packages (from tensorflow-intel==2.16.1->tensorflow) (4.4.0)\n",
      "Requirement already satisfied: astunparse>=1.6.0 in c:\\anaconda\\lib\\site-packages (from tensorflow-intel==2.16.1->tensorflow) (1.6.3)\n",
      "Requirement already satisfied: libclang>=13.0.0 in c:\\anaconda\\lib\\site-packages (from tensorflow-intel==2.16.1->tensorflow) (18.1.1)\n",
      "Requirement already satisfied: gast!=0.5.0,!=0.5.1,!=0.5.2,>=0.2.1 in c:\\anaconda\\lib\\site-packages (from tensorflow-intel==2.16.1->tensorflow) (0.5.4)\n",
      "Requirement already satisfied: ml-dtypes~=0.3.1 in c:\\anaconda\\lib\\site-packages (from tensorflow-intel==2.16.1->tensorflow) (0.3.2)\n",
      "Requirement already satisfied: six>=1.12.0 in c:\\anaconda\\lib\\site-packages (from tensorflow-intel==2.16.1->tensorflow) (1.16.0)\n",
      "Requirement already satisfied: h5py>=3.10.0 in c:\\anaconda\\lib\\site-packages (from tensorflow-intel==2.16.1->tensorflow) (3.11.0)\n",
      "Requirement already satisfied: wheel<1.0,>=0.23.0 in c:\\anaconda\\lib\\site-packages (from astunparse>=1.6.0->tensorflow-intel==2.16.1->tensorflow) (0.38.4)\n",
      "Requirement already satisfied: rich in c:\\anaconda\\lib\\site-packages (from keras>=3.0.0->tensorflow-intel==2.16.1->tensorflow) (13.7.1)\n",
      "Requirement already satisfied: optree in c:\\anaconda\\lib\\site-packages (from keras>=3.0.0->tensorflow-intel==2.16.1->tensorflow) (0.11.0)\n",
      "Requirement already satisfied: namex in c:\\anaconda\\lib\\site-packages (from keras>=3.0.0->tensorflow-intel==2.16.1->tensorflow) (0.0.8)\n",
      "Requirement already satisfied: idna<4,>=2.5 in c:\\anaconda\\lib\\site-packages (from requests<3,>=2.21.0->tensorflow-intel==2.16.1->tensorflow) (3.4)\n",
      "Requirement already satisfied: certifi>=2017.4.17 in c:\\anaconda\\lib\\site-packages (from requests<3,>=2.21.0->tensorflow-intel==2.16.1->tensorflow) (2023.11.17)\n",
      "Requirement already satisfied: urllib3<1.27,>=1.21.1 in c:\\anaconda\\lib\\site-packages (from requests<3,>=2.21.0->tensorflow-intel==2.16.1->tensorflow) (1.26.14)\n",
      "Requirement already satisfied: charset-normalizer<3,>=2 in c:\\anaconda\\lib\\site-packages (from requests<3,>=2.21.0->tensorflow-intel==2.16.1->tensorflow) (2.0.4)\n",
      "Requirement already satisfied: tensorboard-data-server<0.8.0,>=0.7.0 in c:\\anaconda\\lib\\site-packages (from tensorboard<2.17,>=2.16->tensorflow-intel==2.16.1->tensorflow) (0.7.2)\n",
      "Requirement already satisfied: werkzeug>=1.0.1 in c:\\anaconda\\lib\\site-packages (from tensorboard<2.17,>=2.16->tensorflow-intel==2.16.1->tensorflow) (2.2.2)\n",
      "Requirement already satisfied: markdown>=2.6.8 in c:\\anaconda\\lib\\site-packages (from tensorboard<2.17,>=2.16->tensorflow-intel==2.16.1->tensorflow) (3.4.1)\n",
      "Requirement already satisfied: MarkupSafe>=2.1.1 in c:\\anaconda\\lib\\site-packages (from werkzeug>=1.0.1->tensorboard<2.17,>=2.16->tensorflow-intel==2.16.1->tensorflow) (2.1.1)\n",
      "Requirement already satisfied: markdown-it-py>=2.2.0 in c:\\anaconda\\lib\\site-packages (from rich->keras>=3.0.0->tensorflow-intel==2.16.1->tensorflow) (3.0.0)\n",
      "Requirement already satisfied: pygments<3.0.0,>=2.13.0 in c:\\anaconda\\lib\\site-packages (from rich->keras>=3.0.0->tensorflow-intel==2.16.1->tensorflow) (2.18.0)\n",
      "Requirement already satisfied: mdurl~=0.1 in c:\\anaconda\\lib\\site-packages (from markdown-it-py>=2.2.0->rich->keras>=3.0.0->tensorflow-intel==2.16.1->tensorflow) (0.1.2)\n"
     ]
    }
   ],
   "source": [
    "!pip install tensorflow"
   ]
  },
  {
   "cell_type": "code",
   "execution_count": 48,
   "metadata": {},
   "outputs": [
    {
     "name": "stdout",
     "output_type": "stream",
     "text": [
      "Requirement already satisfied: scikeras in c:\\anaconda\\lib\\site-packages (0.13.0)\n",
      "Requirement already satisfied: scikit-learn>=1.4.2 in c:\\anaconda\\lib\\site-packages (from scikeras) (1.5.0)\n",
      "Requirement already satisfied: keras>=3.2.0 in c:\\anaconda\\lib\\site-packages (from scikeras) (3.3.3)\n",
      "Requirement already satisfied: namex in c:\\anaconda\\lib\\site-packages (from keras>=3.2.0->scikeras) (0.0.8)\n",
      "Requirement already satisfied: ml-dtypes in c:\\anaconda\\lib\\site-packages (from keras>=3.2.0->scikeras) (0.3.2)\n",
      "Requirement already satisfied: h5py in c:\\anaconda\\lib\\site-packages (from keras>=3.2.0->scikeras) (3.11.0)\n",
      "Requirement already satisfied: rich in c:\\anaconda\\lib\\site-packages (from keras>=3.2.0->scikeras) (13.7.1)\n",
      "Requirement already satisfied: numpy in c:\\anaconda\\lib\\site-packages (from keras>=3.2.0->scikeras) (1.23.5)\n",
      "Requirement already satisfied: absl-py in c:\\anaconda\\lib\\site-packages (from keras>=3.2.0->scikeras) (2.1.0)\n",
      "Requirement already satisfied: optree in c:\\anaconda\\lib\\site-packages (from keras>=3.2.0->scikeras) (0.11.0)\n",
      "Requirement already satisfied: joblib>=1.2.0 in c:\\anaconda\\lib\\site-packages (from scikit-learn>=1.4.2->scikeras) (1.4.2)\n",
      "Requirement already satisfied: scipy>=1.6.0 in c:\\anaconda\\lib\\site-packages (from scikit-learn>=1.4.2->scikeras) (1.10.0)\n",
      "Requirement already satisfied: threadpoolctl>=3.1.0 in c:\\anaconda\\lib\\site-packages (from scikit-learn>=1.4.2->scikeras) (3.5.0)\n",
      "Requirement already satisfied: typing-extensions>=4.0.0 in c:\\anaconda\\lib\\site-packages (from optree->keras>=3.2.0->scikeras) (4.4.0)\n",
      "Requirement already satisfied: markdown-it-py>=2.2.0 in c:\\anaconda\\lib\\site-packages (from rich->keras>=3.2.0->scikeras) (3.0.0)\n",
      "Requirement already satisfied: pygments<3.0.0,>=2.13.0 in c:\\anaconda\\lib\\site-packages (from rich->keras>=3.2.0->scikeras) (2.18.0)\n",
      "Requirement already satisfied: mdurl~=0.1 in c:\\anaconda\\lib\\site-packages (from markdown-it-py>=2.2.0->rich->keras>=3.2.0->scikeras) (0.1.2)\n"
     ]
    }
   ],
   "source": [
    "!pip install scikeras"
   ]
  },
  {
   "cell_type": "code",
   "execution_count": 49,
   "metadata": {
    "id": "sLGH7a4YN_OF"
   },
   "outputs": [],
   "source": [
    "df=pd.read_csv(\"Preprocessed_Dataa.csv\")"
   ]
  },
  {
   "cell_type": "code",
   "execution_count": 50,
   "metadata": {
    "colab": {
     "base_uri": "https://localhost:8080/"
    },
    "id": "-6OMqs-IYSzp",
    "outputId": "8e06d625-d919-40fc-9a4c-2ddc59c5992d"
   },
   "outputs": [],
   "source": [
    "# df.info()"
   ]
  },
  {
   "cell_type": "code",
   "execution_count": 51,
   "metadata": {
    "id": "pIG1Ho3WfpJe"
   },
   "outputs": [],
   "source": [
    "df['datetime'] = pd.to_datetime(df['datetime'], format=\"%Y-%m-%d %H:%M:%S\")"
   ]
  },
  {
   "cell_type": "code",
   "execution_count": 52,
   "metadata": {
    "id": "Sz1vdEQgNyND"
   },
   "outputs": [],
   "source": [
    "from sklearn.preprocessing import LabelEncoder\n",
    "encoder = LabelEncoder()\n",
    "df['failure_encoded'] = encoder.fit_transform(df['failure'])"
   ]
  },
  {
   "cell_type": "code",
   "execution_count": 53,
   "metadata": {
    "colab": {
     "base_uri": "https://localhost:8080/"
    },
    "id": "T74Oyv9YO1D-",
    "outputId": "8cf7d82a-aefa-4d5c-b3db-a81abef04b20"
   },
   "outputs": [
    {
     "data": {
      "text/plain": [
       "array(['comp1', 'comp2', 'comp3', 'comp4', 'none'], dtype=object)"
      ]
     },
     "execution_count": 53,
     "metadata": {},
     "output_type": "execute_result"
    }
   ],
   "source": [
    "encoder.classes_"
   ]
  },
  {
   "cell_type": "code",
   "execution_count": 54,
   "metadata": {
    "colab": {
     "base_uri": "https://localhost:8080/"
    },
    "id": "YS18UTQ9PCfJ",
    "outputId": "05b10cfe-e1af-4d62-89ed-b263a65e0958"
   },
   "outputs": [
    {
     "data": {
      "text/plain": [
       "{'comp1': 0, 'comp2': 1, 'comp3': 2, 'comp4': 3, 'none': 4}"
      ]
     },
     "execution_count": 54,
     "metadata": {},
     "output_type": "execute_result"
    }
   ],
   "source": [
    "dict(zip(encoder.inverse_transform([0,1,2,3,4]),[0,1,2,3,4]))"
   ]
  },
  {
   "cell_type": "code",
   "execution_count": 55,
   "metadata": {
    "id": "Lbrm3UCyHZ-i"
   },
   "outputs": [],
   "source": [
    "df=df.drop(columns=\"failure\", axis=1)"
   ]
  },
  {
   "cell_type": "code",
   "execution_count": 56,
   "metadata": {
    "colab": {
     "base_uri": "https://localhost:8080/"
    },
    "id": "3GP_J5_uT4MO",
    "outputId": "6a807afd-694a-43b5-827d-28efcf79423b"
   },
   "outputs": [
    {
     "name": "stdout",
     "output_type": "stream",
     "text": [
      "<class 'pandas.core.frame.DataFrame'>\n",
      "RangeIndex: 290642 entries, 0 to 290641\n",
      "Data columns (total 33 columns):\n",
      " #   Column             Non-Null Count   Dtype         \n",
      "---  ------             --------------   -----         \n",
      " 0   machineID          290642 non-null  int64         \n",
      " 1   datetime           290642 non-null  datetime64[ns]\n",
      " 2   voltmean_3h        290642 non-null  float64       \n",
      " 3   rotatemean_3h      290642 non-null  float64       \n",
      " 4   pressuremean_3h    290642 non-null  float64       \n",
      " 5   vibrationmean_3h   290642 non-null  float64       \n",
      " 6   voltsd_3h          290642 non-null  float64       \n",
      " 7   rotatesd_3h        290642 non-null  float64       \n",
      " 8   pressuresd_3h      290642 non-null  float64       \n",
      " 9   vibrationsd_3h     290642 non-null  float64       \n",
      " 10  voltmean_24h       290642 non-null  float64       \n",
      " 11  rotatemean_24h     290642 non-null  float64       \n",
      " 12  pressuremean_24h   290642 non-null  float64       \n",
      " 13  vibrationmean_24h  290642 non-null  float64       \n",
      " 14  voltsd_24h         290642 non-null  float64       \n",
      " 15  rotatesd_24h       290642 non-null  float64       \n",
      " 16  pressuresd_24h     290642 non-null  float64       \n",
      " 17  vibrationsd_24h    290642 non-null  float64       \n",
      " 18  error1count        290642 non-null  float64       \n",
      " 19  error2count        290642 non-null  float64       \n",
      " 20  error3count        290642 non-null  float64       \n",
      " 21  error4count        290642 non-null  float64       \n",
      " 22  error5count        290642 non-null  float64       \n",
      " 23  comp1              290642 non-null  float64       \n",
      " 24  comp2              290642 non-null  float64       \n",
      " 25  comp3              290642 non-null  float64       \n",
      " 26  comp4              290642 non-null  float64       \n",
      " 27  age                290642 non-null  int64         \n",
      " 28  model_model1       290642 non-null  bool          \n",
      " 29  model_model2       290642 non-null  bool          \n",
      " 30  model_model3       290642 non-null  bool          \n",
      " 31  model_model4       290642 non-null  bool          \n",
      " 32  failure_encoded    290642 non-null  int32         \n",
      "dtypes: bool(4), datetime64[ns](1), float64(25), int32(1), int64(2)\n",
      "memory usage: 64.3 MB\n"
     ]
    }
   ],
   "source": [
    "df.info()"
   ]
  },
  {
   "cell_type": "code",
   "execution_count": 57,
   "metadata": {
    "id": "p0QHLwdYPAeg"
   },
   "outputs": [],
   "source": [
    "# make test and training splits\n",
    "threshold_dates = [[pd.to_datetime('2015-07-31 01:00:00'), pd.to_datetime('2015-08-01 01:00:00')],\n",
    "                   [pd.to_datetime('2015-08-31 01:00:00'), pd.to_datetime('2015-09-01 01:00:00')],\n",
    "                   [pd.to_datetime('2015-09-30 01:00:00'), pd.to_datetime('2015-10-01 01:00:00')]]\n",
    "\n",
    "for last_train_date, first_test_date in threshold_dates:\n",
    "    # split out training and test data\n",
    "    Y_train = df.loc[df['datetime'] < last_train_date, 'failure_encoded']\n",
    "    X_train = df.loc[df['datetime'] < last_train_date].drop(columns=['datetime', 'machineID', 'failure_encoded'])\n",
    "    X_test = df.loc[df['datetime'] > first_test_date].drop(columns=['datetime','machineID','failure_encoded'])\n",
    "    Y_test = df.loc[df['datetime'] > first_test_date, 'failure_encoded']"
   ]
  },
  {
   "cell_type": "code",
   "execution_count": 58,
   "metadata": {},
   "outputs": [
    {
     "data": {
      "text/plain": [
       "(290642, 33)"
      ]
     },
     "execution_count": 58,
     "metadata": {},
     "output_type": "execute_result"
    }
   ],
   "source": [
    "df.shape"
   ]
  },
  {
   "cell_type": "code",
   "execution_count": 59,
   "metadata": {
    "colab": {
     "base_uri": "https://localhost:8080/"
    },
    "id": "5dXSdXd5iVil",
    "outputId": "589aa4df-cdfb-4b50-bbf3-1eea1d1a6e58"
   },
   "outputs": [
    {
     "name": "stdout",
     "output_type": "stream",
     "text": [
      "Y_train type: <class 'pandas.core.series.Series'>\n",
      "Y_train shape: (216732,)\n",
      "X_train type: <class 'pandas.core.frame.DataFrame'>\n",
      "X_train shape: (216732, 30)\n",
      "X_test type: <class 'pandas.core.frame.DataFrame'>\n",
      "X_test shape: (73110, 30)\n",
      "Y_test type: <class 'pandas.core.series.Series'>\n",
      "Y_test shape: (73110,)\n"
     ]
    }
   ],
   "source": [
    "print(\"Y_train type:\", type(Y_train))\n",
    "print(\"Y_train shape:\", Y_train.shape)\n",
    "print(\"X_train type:\", type(X_train))\n",
    "print(\"X_train shape:\", X_train.shape)\n",
    "print(\"X_test type:\", type(X_test))\n",
    "print(\"X_test shape:\", X_test.shape)\n",
    "print(\"Y_test type:\", type(Y_test))\n",
    "print(\"Y_test shape:\", Y_test.shape)"
   ]
  },
  {
   "cell_type": "code",
   "execution_count": 60,
   "metadata": {
    "id": "ClZLIYSDSoB5"
   },
   "outputs": [],
   "source": [
    "def draw_confusion_matrix(cm):\n",
    "    plt.figure(figsize=(12,8))\n",
    "    sns.heatmap(cm,annot=True,fmt=\"d\", center=0, cmap='autumn')\n",
    "    plt.title(\"Confusion Matrix\")\n",
    "    plt.ylabel('True label')\n",
    "    plt.xlabel('Predicted label')\n",
    "    plt.show()"
   ]
  },
  {
   "cell_type": "code",
   "execution_count": 61,
   "metadata": {
    "id": "gRlU8MutqGEm"
   },
   "outputs": [],
   "source": [
    "X_train =X_train.astype(np.float32)\n",
    "X_test =X_test.astype(np.float32)\n",
    "X = df.drop(columns=['datetime', 'machineID', 'failure_encoded']).astype(np.float32)"
   ]
  },
  {
   "cell_type": "code",
   "execution_count": 62,
   "metadata": {
    "id": "mWrw6j-WqPkc"
   },
   "outputs": [],
   "source": [
    "from tensorflow.keras.utils import to_categorical\n",
    "\n",
    "Y_train = to_categorical(Y_train, num_classes=5)\n",
    "Y_test = to_categorical(Y_test, num_classes=5)"
   ]
  },
  {
   "cell_type": "code",
   "execution_count": 63,
   "metadata": {
    "colab": {
     "base_uri": "https://localhost:8080/"
    },
    "id": "Pa6seUEM1CqE",
    "outputId": "f4d0ca07-b97d-4f18-83ac-cd8bf4165117"
   },
   "outputs": [
    {
     "name": "stderr",
     "output_type": "stream",
     "text": [
      "C:\\anaconda\\lib\\site-packages\\keras\\src\\layers\\core\\embedding.py:90: UserWarning: Argument `input_length` is deprecated. Just remove it.\n",
      "  warnings.warn(\n"
     ]
    },
    {
     "name": "stdout",
     "output_type": "stream",
     "text": [
      "Epoch 1/2\n",
      "\u001b[1m3387/3387\u001b[0m \u001b[32m━━━━━━━━━━━━━━━━━━━━\u001b[0m\u001b[37m\u001b[0m \u001b[1m410s\u001b[0m 107ms/step - accuracy: 0.9841 - loss: 0.1054 - val_accuracy: 0.9947 - val_loss: 0.0190\n",
      "Epoch 2/2\n",
      "\u001b[1m3387/3387\u001b[0m \u001b[32m━━━━━━━━━━━━━━━━━━━━\u001b[0m\u001b[37m\u001b[0m \u001b[1m316s\u001b[0m 93ms/step - accuracy: 0.9961 - loss: 0.0122 - val_accuracy: 0.9971 - val_loss: 0.0136\n"
     ]
    },
    {
     "data": {
      "text/plain": [
       "<keras.src.callbacks.history.History at 0x29b181b7820>"
      ]
     },
     "execution_count": 63,
     "metadata": {},
     "output_type": "execute_result"
    }
   ],
   "source": [
    "from tensorflow.keras.models import Sequential\n",
    "from tensorflow.keras.layers import LSTM, Dense\n",
    "from keras.layers import Embedding\n",
    "from tensorflow.keras.utils import to_categorical\n",
    "from sklearn.metrics import confusion_matrix, ConfusionMatrixDisplay\n",
    "import matplotlib.pyplot as plt\n",
    "\n",
    "# Build the LSTM model\n",
    "model = Sequential()\n",
    "model.add(Embedding(input_dim=600, output_dim=16, input_length=30))\n",
    "model.add(LSTM(units=32, activation='relu'))\n",
    "model.add(Dense(units=5, activation='softmax'))\n",
    "\n",
    "# Compile the model\n",
    "model.compile(loss='categorical_crossentropy', optimizer='adam', metrics=['accuracy'])\n",
    "\n",
    "# Train the model\n",
    "model.fit(X_train, Y_train, epochs=2, batch_size=64, validation_data=(X_test, Y_test))"
   ]
  },
  {
   "cell_type": "code",
   "execution_count": 68,
   "metadata": {
    "id": "UmD0A2ToBnv1"
   },
   "outputs": [
    {
     "name": "stdout",
     "output_type": "stream",
     "text": [
      "\u001b[1m2285/2285\u001b[0m \u001b[32m━━━━━━━━━━━━━━━━━━━━\u001b[0m\u001b[37m\u001b[0m \u001b[1m84s\u001b[0m 37ms/step - accuracy: 0.9977 - loss: 0.0100\n",
      "Test loss: 0.0136, Test accuracy: 0.9971\n"
     ]
    }
   ],
   "source": [
    "# Evaluate the model\n",
    "loss, accuracy = model.evaluate(X_test, Y_test)\n",
    "print(f\"Test loss: {loss:.4f}, Test accuracy: {accuracy:.4f}\")"
   ]
  },
  {
   "cell_type": "code",
   "execution_count": 69,
   "metadata": {
    "id": "pJUYa676BtsX"
   },
   "outputs": [
    {
     "name": "stdout",
     "output_type": "stream",
     "text": [
      "\u001b[1m2285/2285\u001b[0m \u001b[32m━━━━━━━━━━━━━━━━━━━━\u001b[0m\u001b[37m\u001b[0m \u001b[1m86s\u001b[0m 37ms/step\n"
     ]
    }
   ],
   "source": [
    "y_pred_prob = model.predict(X_test)\n",
    "y_pred = np.argmax(y_pred_prob, axis=1)"
   ]
  },
  {
   "cell_type": "code",
   "execution_count": 66,
   "metadata": {
    "id": "oeTPGGXcByko"
   },
   "outputs": [
    {
     "data": {
      "image/png": "[encoded data removed]",
      "text/plain": [
       "<Figure size 640x480 with 2 Axes>"
      ]
     },
     "metadata": {},
     "output_type": "display_data"
    }
   ],
   "source": [
    "# Convert Y_test from one-hot encoded to categorical labels\n",
    "Y_test_labels = np.argmax(Y_test, axis=1)\n",
    "\n",
    "# Compute confusion matrix\n",
    "cm = confusion_matrix(Y_test_labels, y_pred)\n",
    "\n",
    "# Display the confusion matrix with custom labels\n",
    "disp = ConfusionMatrixDisplay(confusion_matrix=cm, display_labels=['comp1', 'comp2', 'comp3', 'comp4', 'none'])\n",
    "disp.plot(cmap=plt.cm.Blues)\n",
    "plt.title('Confusion Matrix')\n",
    "plt.show()"
   ]
  },
  {
   "cell_type": "code",
   "execution_count": 22,
   "metadata": {
    "id": "Alzzk6Gui9bM"
   },
   "outputs": [
    {
     "name": "stdout",
     "output_type": "stream",
     "text": [
      "Classification Report:\n",
      "              precision    recall  f1-score   support\n",
      "\n",
      "       comp1       0.93      0.89      0.91       320\n",
      "       comp2       0.97      0.98      0.97       548\n",
      "       comp3       0.83      0.86      0.84       224\n",
      "       comp4       0.98      0.66      0.79       280\n",
      "        none       1.00      1.00      1.00     71738\n",
      "\n",
      "    accuracy                           1.00     73110\n",
      "   macro avg       0.94      0.88      0.90     73110\n",
      "weighted avg       1.00      1.00      1.00     73110\n",
      "\n"
     ]
    }
   ],
   "source": [
    "class_names=['comp1', 'comp2', 'comp3', 'comp4', 'none']\n",
    "print('Classification Report:')\n",
    "print(classification_report(Y_test_labels, y_pred, target_names=class_names))"
   ]
  },
  {
   "cell_type": "code",
   "execution_count": 23,
   "metadata": {},
   "outputs": [],
   "source": [
    "# import pickle \n",
    "# vec_file= \"savedmodel.pickle\"\n",
    "# pickle.dump(model,open(vec_file,\"wb\"))"
   ]
  },
  {
   "cell_type": "code",
   "execution_count": 24,
   "metadata": {},
   "outputs": [],
   "source": [
    "# pwd"
   ]
  },
  {
   "cell_type": "code",
   "execution_count": 25,
   "metadata": {
    "id": "zTP8LXKcnT9X"
   },
   "outputs": [],
   "source": [
    "import pickle \n",
    "vec_file= \"savedmodel.sav\"\n",
    "pickle.dump(model,open(vec_file,\"wb\"))"
   ]
  },
  {
   "cell_type": "code",
   "execution_count": 26,
   "metadata": {},
   "outputs": [
    {
     "name": "stdout",
     "output_type": "stream",
     "text": [
      "<class 'pandas.core.frame.DataFrame'>\n",
      "Int64Index: 73110 entries, 2175 to 290641\n",
      "Data columns (total 30 columns):\n",
      " #   Column             Non-Null Count  Dtype  \n",
      "---  ------             --------------  -----  \n",
      " 0   voltmean_3h        73110 non-null  float32\n",
      " 1   rotatemean_3h      73110 non-null  float32\n",
      " 2   pressuremean_3h    73110 non-null  float32\n",
      " 3   vibrationmean_3h   73110 non-null  float32\n",
      " 4   voltsd_3h          73110 non-null  float32\n",
      " 5   rotatesd_3h        73110 non-null  float32\n",
      " 6   pressuresd_3h      73110 non-null  float32\n",
      " 7   vibrationsd_3h     73110 non-null  float32\n",
      " 8   voltmean_24h       73110 non-null  float32\n",
      " 9   rotatemean_24h     73110 non-null  float32\n",
      " 10  pressuremean_24h   73110 non-null  float32\n",
      " 11  vibrationmean_24h  73110 non-null  float32\n",
      " 12  voltsd_24h         73110 non-null  float32\n",
      " 13  rotatesd_24h       73110 non-null  float32\n",
      " 14  pressuresd_24h     73110 non-null  float32\n",
      " 15  vibrationsd_24h    73110 non-null  float32\n",
      " 16  error1count        73110 non-null  float32\n",
      " 17  error2count        73110 non-null  float32\n",
      " 18  error3count        73110 non-null  float32\n",
      " 19  error4count        73110 non-null  float32\n",
      " 20  error5count        73110 non-null  float32\n",
      " 21  comp1              73110 non-null  float32\n",
      " 22  comp2              73110 non-null  float32\n",
      " 23  comp3              73110 non-null  float32\n",
      " 24  comp4              73110 non-null  float32\n",
      " 25  age                73110 non-null  float32\n",
      " 26  model_model1       73110 non-null  float32\n",
      " 27  model_model2       73110 non-null  float32\n",
      " 28  model_model3       73110 non-null  float32\n",
      " 29  model_model4       73110 non-null  float32\n",
      "dtypes: float32(30)\n",
      "memory usage: 8.9 MB\n"
     ]
    }
   ],
   "source": [
    "X_test.info()"
   ]
  },
  {
   "cell_type": "code",
   "execution_count": 27,
   "metadata": {},
   "outputs": [],
   "source": [
    "import pickle \n",
    "vec_file= \"savedmodel.sav\"\n",
    "load_model=pickle.load(open(vec_file,\"rb\"))"
   ]
  },
  {
   "cell_type": "code",
   "execution_count": 28,
   "metadata": {},
   "outputs": [
    {
     "name": "stdout",
     "output_type": "stream",
     "text": [
      "\u001b[1m1/1\u001b[0m \u001b[32m━━━━━━━━━━━━━━━━━━━━\u001b[0m\u001b[37m\u001b[0m \u001b[1m2s\u001b[0m 2s/step\n",
      "Predicted class: none\n"
     ]
    }
   ],
   "source": [
    "# Input data (one sample with 30 features)\n",
    "input_data = [[180.13378397109702, 440.60832011257327, 94.13796949854344, 41.55154362650146, 21.322734791827322, \n",
    "              48.77051196643331, 2.1356837326217306, 10.037208062658594, 169.73380889577274, 445.17986460181123, \n",
    "              96.7971129620009, 40.38515998915177, 15.72696995154812, 39.64811571652482, 11.904699751203538, \n",
    "              5.601190880037356, 0.0, 0.0, 0.0, 0.0, 0.0, 20.0, 215.0, 155.0, 170.0, 18.0, 0.0, 0.0, 1.0, 0.0]]\n",
    "\n",
    "# Reshape the input data to match the model's expected input shape (samples, features)\n",
    "input_data_reshaped = np.array(input_data).reshape(1, 30)\n",
    "\n",
    "# Make the prediction\n",
    "y_pred_prob = load_model.predict(input_data_reshaped)\n",
    "y_pred = np.argmax(y_pred_prob, axis=1)\n",
    "\n",
    "# Print the predicted class\n",
    "class_labels = ['comp1', 'comp2', 'comp3', 'comp4', 'none']\n",
    "predicted_class = class_labels[y_pred[0]]\n",
    "print(f\"Predicted class: {predicted_class}\")"
   ]
  }
 ],
 "metadata": {
  "colab": {
   "provenance": []
  },
  "kernelspec": {
   "display_name": "Python 3 (ipykernel)",
   "language": "python",
   "name": "python3"
  },
  "language_info": {
   "codemirror_mode": {
    "name": "ipython",
    "version": 3
   },
   "file_extension": ".py",
   "mimetype": "text/x-python",
   "name": "python",
   "nbconvert_exporter": "python",
   "pygments_lexer": "ipython3",
   "version": "3.10.9"
  }
 },
 "nbformat": 4,
 "nbformat_minor": 1
}
